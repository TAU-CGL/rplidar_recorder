{
 "cells": [
  {
   "cell_type": "code",
   "execution_count": 1,
   "id": "02c11d68",
   "metadata": {},
   "outputs": [],
   "source": [
    "\n",
    "import numpy as np\n",
    "import pandas as pd\n",
    "import matplotlib.pyplot as plt\n",
    "from pathlib import Path\n",
    "import _sdsl\n"
   ]
  },
  {
   "cell_type": "code",
   "execution_count": 2,
   "id": "f848be53",
   "metadata": {},
   "outputs": [],
   "source": [
    "def sample_valid_poses(env, n_samples=1, max_tries=1000):\n",
    "    \"\"\"\n",
    "    Sample valid poses inside the given environment.\n",
    "    Returns a list of up to n_samples poses.\n",
    "    \"\"\"\n",
    "    poses = []\n",
    "    bb = env.bounding_box()\n",
    "    tries = 0\n",
    "    while len(poses) < n_samples and tries < max_tries:\n",
    "        q = bb.sample()\n",
    "        if env.is_inside(q):\n",
    "            poses.append(q)\n",
    "        tries += 1\n",
    "    return poses\n"
   ]
  },
  {
   "cell_type": "code",
   "execution_count": 3,
   "id": "e0979314",
   "metadata": {},
   "outputs": [
    {
     "name": "stdout",
     "output_type": "stream",
     "text": [
      "Columns: ['ts', 'pcd_dev4', 'pcd_dev2', 'pcd_dev1', 'pcd_dev3', 'pcd_dev5', 'pcd_dev1_transformed', 'pcd_dev2_transformed', 'pcd_dev3_transformed', 'pcd_dev4_transformed', 'pcd_dev5_transformed', 'tuple_idx']\n",
      "Number of frames: 30036\n"
     ]
    }
   ],
   "source": [
    "\n",
    "# Load Parquet file\n",
    "file_path = \"/home/michaelb/Projects/rplidar_recorder/docs/merged_batch_000.parquet\"\n",
    "df = pd.read_parquet(file_path)\n",
    "print(\"Columns:\", df.columns.tolist())\n",
    "print(\"Number of frames:\", len(df))\n"
   ]
  },
  {
   "cell_type": "code",
   "execution_count": 4,
   "id": "9a4e688d",
   "metadata": {},
   "outputs": [
    {
     "name": "stdout",
     "output_type": "stream",
     "text": [
      "Decoded transformed point cloud columns:\n",
      "['pcd_dev1_transformed', 'pcd_dev2_transformed', 'pcd_dev3_transformed', 'pcd_dev4_transformed', 'pcd_dev5_transformed']\n"
     ]
    }
   ],
   "source": [
    "\n",
    "import struct\n",
    "\n",
    "def decode_pcd_array(b):\n",
    "    if isinstance(b, bytes):\n",
    "        f = np.frombuffer(b, dtype=np.float32)\n",
    "        return f.reshape(-1, 2) if len(f) % 2 == 0 else np.empty((0, 2))\n",
    "    return np.empty((0, 2))\n",
    "\n",
    "devices = ['dev1', 'dev2', 'dev3', 'dev4', 'dev5']\n",
    "for dev in devices:\n",
    "    col = f\"pcd_{dev}_transformed\"\n",
    "    df[col] = df[col].apply(decode_pcd_array)\n",
    "\n",
    "print(\"Decoded transformed point cloud columns:\")\n",
    "print([f\"pcd_{dev}_transformed\" for dev in devices])\n"
   ]
  },
  {
   "cell_type": "code",
   "execution_count": 6,
   "id": "d20d0e9a",
   "metadata": {},
   "outputs": [
    {
     "ename": "NameError",
     "evalue": "name 'all_valid_points' is not defined",
     "output_type": "error",
     "traceback": [
      "\u001b[0;31m---------------------------------------------------------------------------\u001b[0m",
      "\u001b[0;31mNameError\u001b[0m                                 Traceback (most recent call last)",
      "Cell \u001b[0;32mIn[6], line 2\u001b[0m\n\u001b[1;32m      1\u001b[0m \u001b[38;5;66;03m# DEBUG: Show shape and bounds of merged PCD\u001b[39;00m\n\u001b[0;32m----> 2\u001b[0m \u001b[38;5;28;01mif\u001b[39;00m \u001b[43mall_valid_points\u001b[49m:\n\u001b[1;32m      3\u001b[0m     all_points \u001b[38;5;241m=\u001b[39m np\u001b[38;5;241m.\u001b[39mvstack(all_valid_points)\n\u001b[1;32m      5\u001b[0m     \u001b[38;5;28mprint\u001b[39m(\u001b[38;5;124m\"\u001b[39m\u001b[38;5;124mCombined point cloud shape:\u001b[39m\u001b[38;5;124m\"\u001b[39m, all_points\u001b[38;5;241m.\u001b[39mshape)\n",
      "\u001b[0;31mNameError\u001b[0m: name 'all_valid_points' is not defined"
     ]
    }
   ],
   "source": [
    "# DEBUG: Show shape and bounds of merged PCD\n",
    "if all_valid_points:\n",
    "    all_points = np.vstack(all_valid_points)\n",
    "\n",
    "    print(\"Combined point cloud shape:\", all_points.shape)\n",
    "\n",
    "    # Print axis range\n",
    "    x_vals = all_points[:, 0]\n",
    "    y_vals = all_points[:, 1]\n",
    "\n",
    "    print(\"X Range (min, max):\", x_vals.min(), x_vals.max())\n",
    "    print(\"Y Range (min, max):\", y_vals.min(), y_vals.max())\n",
    "    print(\"X Percentiles (1%, 99%):\", np.percentile(x_vals, [1, 99]))\n",
    "    print(\"Y Percentiles (1%, 99%):\", np.percentile(y_vals, [1, 99]))\n"
   ]
  },
  {
   "cell_type": "code",
   "execution_count": 7,
   "id": "0734948f",
   "metadata": {},
   "outputs": [
    {
     "ename": "NameError",
     "evalue": "name 'all_points' is not defined",
     "output_type": "error",
     "traceback": [
      "\u001b[0;31m---------------------------------------------------------------------------\u001b[0m",
      "\u001b[0;31mNameError\u001b[0m                                 Traceback (most recent call last)",
      "Cell \u001b[0;32mIn[7], line 2\u001b[0m\n\u001b[1;32m      1\u001b[0m \u001b[38;5;66;03m# Filter points to exclude outliers\u001b[39;00m\n\u001b[0;32m----> 2\u001b[0m x_low, x_high \u001b[38;5;241m=\u001b[39m np\u001b[38;5;241m.\u001b[39mpercentile(\u001b[43mall_points\u001b[49m[:, \u001b[38;5;241m0\u001b[39m], [\u001b[38;5;241m1\u001b[39m, \u001b[38;5;241m99\u001b[39m])\n\u001b[1;32m      3\u001b[0m y_low, y_high \u001b[38;5;241m=\u001b[39m np\u001b[38;5;241m.\u001b[39mpercentile(all_points[:, \u001b[38;5;241m1\u001b[39m], [\u001b[38;5;241m1\u001b[39m, \u001b[38;5;241m99\u001b[39m])\n\u001b[1;32m      5\u001b[0m filtered_points \u001b[38;5;241m=\u001b[39m all_points[\n\u001b[1;32m      6\u001b[0m     (all_points[:, \u001b[38;5;241m0\u001b[39m] \u001b[38;5;241m>\u001b[39m\u001b[38;5;241m=\u001b[39m x_low) \u001b[38;5;241m&\u001b[39m (all_points[:, \u001b[38;5;241m0\u001b[39m] \u001b[38;5;241m<\u001b[39m\u001b[38;5;241m=\u001b[39m x_high) \u001b[38;5;241m&\u001b[39m\n\u001b[1;32m      7\u001b[0m     (all_points[:, \u001b[38;5;241m1\u001b[39m] \u001b[38;5;241m>\u001b[39m\u001b[38;5;241m=\u001b[39m y_low) \u001b[38;5;241m&\u001b[39m (all_points[:, \u001b[38;5;241m1\u001b[39m] \u001b[38;5;241m<\u001b[39m\u001b[38;5;241m=\u001b[39m y_high)\n\u001b[1;32m      8\u001b[0m ]\n",
      "\u001b[0;31mNameError\u001b[0m: name 'all_points' is not defined"
     ]
    }
   ],
   "source": [
    "# Filter points to exclude outliers\n",
    "x_low, x_high = np.percentile(all_points[:, 0], [1, 99])\n",
    "y_low, y_high = np.percentile(all_points[:, 1], [1, 99])\n",
    "\n",
    "filtered_points = all_points[\n",
    "    (all_points[:, 0] >= x_low) & (all_points[:, 0] <= x_high) &\n",
    "    (all_points[:, 1] >= y_low) & (all_points[:, 1] <= y_high)\n",
    "]\n",
    "\n",
    "print(\"Filtered points shape:\", filtered_points.shape)\n"
   ]
  },
  {
   "cell_type": "code",
   "execution_count": 22,
   "id": "66c41dab",
   "metadata": {},
   "outputs": [
    {
     "name": "stdout",
     "output_type": "stream",
     "text": [
      "dev1: X(min,max)=-0.52,3.53 | Y(min,max)=-2.95,2.77 | count=548\n",
      "dev2: X(min,max)=-94.48,47.32 | Y(min,max)=-2.11,2.24 | count=379\n",
      "dev3: X(min,max)=-58.98,93.71 | Y(min,max)=-2.13,2.27 | count=565\n",
      "dev4: X(min,max)=-70.78,97.42 | Y(min,max)=-2.18,2.21 | count=704\n",
      "dev5: X(min,max)=-85.40,58.10 | Y(min,max)=-2.13,2.18 | count=593\n"
     ]
    },
    {
     "data": {
      "image/png": "[encoded data removed]",
      "text/plain": [
       "<Figure size 800x600 with 1 Axes>"
      ]
     },
     "metadata": {},
     "output_type": "display_data"
    }
   ],
   "source": [
    "import matplotlib.pyplot as plt\n",
    "import numpy as np\n",
    "\n",
    "row = df.iloc[1000]\n",
    "\n",
    "fig, ax = plt.subplots(figsize=(8, 6))\n",
    "ax.set_title(\"Transformed PCDs - Sample Frame (Clamped)\")\n",
    "\n",
    "colors = ['red', 'blue', 'green', 'orange', 'purple']\n",
    "all_valid_points = []\n",
    "\n",
    "for i, dev in enumerate(devices):\n",
    "    col = f\"pcd_{dev}_transformed\"\n",
    "    points = row[col]\n",
    "\n",
    "    if isinstance(points, np.ndarray) and points.ndim == 2 and points.shape[1] == 2:\n",
    "        valid = points[np.isfinite(points).all(axis=1)]\n",
    "\n",
    "        # Clamp to ±100m to kill outliers\n",
    "        mask = (np.abs(valid[:, 0]) < 100) & (np.abs(valid[:, 1]) < 100)\n",
    "        final = valid[mask]\n",
    "\n",
    "        if len(final) > 0:\n",
    "            ax.scatter(final[:, 0], final[:, 1],\n",
    "                       s=2, alpha=0.7, label=dev, c=colors[i % len(colors)])\n",
    "            all_valid_points.append(final)\n",
    "\n",
    "            # Debug stats\n",
    "            print(f\"{dev}: X(min,max)={final[:,0].min():.2f},{final[:,0].max():.2f} | \"\n",
    "                  f\"Y(min,max)={final[:,1].min():.2f},{final[:,1].max():.2f} | count={len(final)}\")\n",
    "        else:\n",
    "            print(f\"⚠️ {dev}: no points after clamping\")\n",
    "    else:\n",
    "        print(f\"⚠️ {dev}: invalid type or shape\")\n",
    "\n",
    "if all_valid_points:\n",
    "    all_points = np.vstack(all_valid_points)\n",
    "    x_min, y_min = all_points.min(axis=0) - 0.5\n",
    "    x_max, y_max = all_points.max(axis=0) + 0.5\n",
    "    ax.set_xlim(x_min, x_max)\n",
    "    ax.set_ylim(y_min, y_max)\n",
    "\n",
    "ax.set_aspect(\"equal\")\n",
    "ax.legend()\n",
    "plt.grid(True)\n",
    "plt.tight_layout()\n",
    "plt.show()\n"
   ]
  },
  {
   "cell_type": "code",
   "execution_count": 23,
   "id": "8669b7f1",
   "metadata": {},
   "outputs": [],
   "source": [
    "\n",
    "# Define odometry\n",
    "L = 0.05\n",
    "odometry = [\n",
    "    _sdsl.R3xS2(\n",
    "        L * np.cos(i * np.pi / 16), L * np.sin(i * np.pi / 16), 0,\n",
    "        np.cos(i * np.pi / 16), np.sin(i * np.pi / 16), 0\n",
    "    ) for i in range(32)\n",
    "]\n"
   ]
  },
  {
   "cell_type": "code",
   "execution_count": 24,
   "id": "d55213e3",
   "metadata": {},
   "outputs": [
    {
     "name": "stdout",
     "output_type": "stream",
     "text": [
      "dev1: kept 548 points after clamping\n",
      "dev2: kept 372 points after clamping\n",
      "dev3: kept 556 points after clamping\n",
      "dev4: kept 692 points after clamping\n",
      "dev5: kept 587 points after clamping\n",
      "✅ Merged environment created with 2755 points\n"
     ]
    }
   ],
   "source": [
    "# --- Build merged environment with clamping ---\n",
    "row = df.iloc[1000]  # or whichever frame you want\n",
    "\n",
    "all_points = []\n",
    "for dev in devices:\n",
    "    col = f\"pcd_{dev}_transformed\"\n",
    "    points = row[col]\n",
    "    if isinstance(points, np.ndarray) and points.ndim == 2 and points.shape[1] == 2:\n",
    "        valid = points[np.isfinite(points).all(axis=1)]\n",
    "        # Clamp to remove outliers (±20m in X, ±5m in Y)\n",
    "        mask = (np.abs(valid[:, 0]) < 20) & (np.abs(valid[:, 1]) < 5)\n",
    "        clamped = valid[mask]\n",
    "        if len(clamped) > 0:\n",
    "            all_points.append(clamped)\n",
    "            print(f\"{dev}: kept {len(clamped)} points after clamping\")\n",
    "        else:\n",
    "            print(f\"{dev}: no points left after clamping\")\n",
    "\n",
    "if not all_points:\n",
    "    raise ValueError(\"❌ No valid point clouds after clamping!\")\n",
    "\n",
    "# Merge into one array\n",
    "merged_points_2d = np.vstack(all_points)\n",
    "merged_points_3d = np.hstack([\n",
    "    merged_points_2d,\n",
    "    np.zeros((merged_points_2d.shape[0], 1))\n",
    "])\n",
    "\n",
    "# Create the environment for beam simulation\n",
    "merged_env = _sdsl.Env_R3_PCD(merged_points_3d)\n",
    "\n",
    "print(\"✅ Merged environment created with\",\n",
    "      merged_points_3d.shape[0], \"points\")\n"
   ]
  },
  {
   "cell_type": "code",
   "execution_count": 28,
   "id": "467f32e0",
   "metadata": {},
   "outputs": [
    {
     "name": "stdout",
     "output_type": "stream",
     "text": [
      "✅ Valid pose with 9/16 beams\n"
     ]
    },
    {
     "data": {
      "text/plain": [
       "[1.7976931348623157e+308,\n",
       " 1.7976931348623157e+308,\n",
       " 1.7976931348623157e+308,\n",
       " 1.7976931348623157e+308,\n",
       " 1.7976931348623157e+308,\n",
       " 1.7976931348623157e+308,\n",
       " 0.3737769059655676,\n",
       " 1.7976931348623157e+308,\n",
       " 0.29081977959344396,\n",
       " 0.3195726598748269,\n",
       " 0.5076755568300084,\n",
       " 0.47967828057788053,\n",
       " 0.4053591599820431,\n",
       " 0.37491961821744835,\n",
       " 0.35322671628299274,\n",
       " 0.34825853775399623]"
      ]
     },
     "execution_count": 28,
     "metadata": {},
     "output_type": "execute_result"
    }
   ],
   "source": [
    "\n",
    "MIN_VALID_BEAMS = 8\n",
    "MAX_SAMPLE_ATTEMPTS = 50\n",
    "\n",
    "for _ in range(MAX_SAMPLE_ATTEMPTS):\n",
    "    poses = sample_valid_poses(merged_env, 1)\n",
    "    if not poses:\n",
    "        continue\n",
    "    q0 = poses[0]\n",
    "    ref_measurements = [merged_env.measure_distance(q0.act(g)) for g in odometry[:16]]\n",
    "    valid_count = sum(d < 1e6 for d in ref_measurements)\n",
    "    if valid_count >= MIN_VALID_BEAMS:\n",
    "        print(f\"✅ Valid pose with {valid_count}/16 beams\")\n",
    "        break\n",
    "else:\n",
    "    raise RuntimeError(\"❌ Could not find good pose\")\n",
    "\n",
    "ref_pose = q0\n",
    "ref_measurements\n"
   ]
  },
  {
   "cell_type": "code",
   "execution_count": 29,
   "id": "70303fce",
   "metadata": {},
   "outputs": [
    {
     "data": {
      "image/png": "[encoded data removed]",
      "text/plain": [
       "<Figure size 800x800 with 1 Axes>"
      ]
     },
     "metadata": {},
     "output_type": "display_data"
    }
   ],
   "source": [
    "\n",
    "fig, ax = plt.subplots(figsize=(8, 8))\n",
    "ax.set_title(\"Beams from Sampled Pose\")\n",
    "\n",
    "# Plot all merged points\n",
    "ax.scatter(merged_points_2d[:, 0], merged_points_2d[:, 1], s=1, alpha=0.4)\n",
    "\n",
    "# Plot beam rays\n",
    "origin = np.array([q0.x(), q0.y()])\n",
    "for i, g in enumerate(odometry[:16]):\n",
    "    p = q0.act(g)\n",
    "    d = ref_measurements[i]\n",
    "    if d >= 1e6:\n",
    "        continue\n",
    "    target = np.array([p.x(), p.y()]) * d + origin\n",
    "    ax.plot([origin[0], target[0]], [origin[1], target[1]], 'r-', alpha=0.6)\n",
    "\n",
    "ax.set_aspect(\"equal\")\n",
    "plt.grid(True)\n",
    "plt.show()\n"
   ]
  },
  {
   "cell_type": "code",
   "execution_count": null,
   "id": "44d17411",
   "metadata": {},
   "outputs": [],
   "source": [
    "\n",
    "comparison_results = []\n",
    "\n",
    "for j in range(1001, 1010):  # next 9 frames\n",
    "    row_j = df.iloc[j]\n",
    "    merged = []\n",
    "    for dev in devices:\n",
    "        pts = row_j[f\"pcd_{dev}_transformed\"]\n",
    "        if isinstance(pts, np.ndarray) and pts.ndim == 2 and pts.shape[1] == 2:\n",
    "            valid = pts[np.isfinite(pts).all(axis=1)]\n",
    "            if len(valid) > 0:\n",
    "                merged.append(valid)\n",
    "\n",
    "    if not merged:\n",
    "        print(f\"⚠️ Frame {j}: no valid PCDs\")\n",
    "        continue\n",
    "\n",
    "    pts_2d = np.vstack(merged)\n",
    "    pts_3d = np.hstack([pts_2d, np.zeros((pts_2d.shape[0], 1))])\n",
    "    env = _sdsl.Env_R3_PCD(pts_3d)\n",
    "\n",
    "    poses = sample_valid_poses(env, 100)\n",
    "    for q in poses:\n",
    "        meas = [env.measure_distance(q.act(g)) for g in odometry[:16]]\n",
    "        diffs = [abs(m - r) for m, r in zip(meas, ref_measurements) if m < 1e6 and r < 1e6]\n",
    "        if len(diffs) < MIN_VALID_BEAMS:\n",
    "            continue\n",
    "        comparison_results.append({\n",
    "            \"x\": q.x(),\n",
    "            \"y\": q.y(),\n",
    "            \"theta\": np.arctan2(q.v1()[1], q.v1()[0]),\n",
    "            \"avg_error\": np.mean(diffs),\n",
    "            \"k_prime\": sum(d < 1e6 for d in meas),\n",
    "            \"frame\": j\n",
    "        })\n",
    "\n",
    "print(f\"Comparison results collected: {len(comparison_results)}\")\n"
   ]
  }
 ],
 "metadata": {
  "kernelspec": {
   "display_name": "Python 3",
   "language": "python",
   "name": "python3"
  },
  "language_info": {
   "codemirror_mode": {
    "name": "ipython",
    "version": 3
   },
   "file_extension": ".py",
   "mimetype": "text/x-python",
   "name": "python",
   "nbconvert_exporter": "python",
   "pygments_lexer": "ipython3",
   "version": "3.8.10"
  }
 },
 "nbformat": 4,
 "nbformat_minor": 5
}
